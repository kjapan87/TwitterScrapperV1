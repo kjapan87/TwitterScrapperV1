{
  "nbformat": 4,
  "nbformat_minor": 0,
  "metadata": {
    "colab": {
      "name": "twitterExample.ipynb",
      "provenance": [],
      "private_outputs": true,
      "include_colab_link": true
    },
    "kernelspec": {
      "name": "python3",
      "display_name": "Python 3"
    },
    "accelerator": "GPU"
  },
  "cells": [
    {
      "cell_type": "markdown",
      "metadata": {
        "id": "view-in-github",
        "colab_type": "text"
      },
      "source": [
        "<a href=\"https://colab.research.google.com/github/kjapan87/TwitterScrapperV1/blob/main/twitterExample.ipynb\" target=\"_parent\"><img src=\"https://colab.research.google.com/assets/colab-badge.svg\" alt=\"Open In Colab\"/></a>"
      ]
    },
    {
      "cell_type": "code",
      "metadata": {
        "id": "fJOgpeHcFDMx"
      },
      "source": [
        "#importing all the libraries\n",
        "import numpy as np\n",
        "import pandas as pd\n",
        "import matplotlib.pyplot as plt"
      ],
      "execution_count": null,
      "outputs": []
    },
    {
      "cell_type": "code",
      "metadata": {
        "id": "uiD8zzUYJa3I"
      },
      "source": [
        "#Reading the data\n",
        "MainData = pd.read_csv(\"twitterData.csv\", encoding = \"ISO-8859-1\", header = None)"
      ],
      "execution_count": null,
      "outputs": []
    },
    {
      "cell_type": "code",
      "metadata": {
        "id": "rsJ23RJFW6nx"
      },
      "source": [
        "#Classifying the raw data in dependent & independent variables\n",
        "x = MainData.iloc[0:1599999,5].values\n",
        "y = MainData.iloc[0:1599999,0].values"
      ],
      "execution_count": null,
      "outputs": []
    },
    {
      "cell_type": "code",
      "metadata": {
        "id": "O_aLfOqFaHfN"
      },
      "source": [
        "#preparing for the Pre-processing of the tweet's text data by calling nltk & it's classes\n",
        "import nltk\n",
        "import re\n",
        "from nltk.stem.porter import PorterStemmer\n",
        "nltk.download(\"stopwords\")\n",
        "from nltk.corpus import stopwords"
      ],
      "execution_count": null,
      "outputs": []
    },
    {
      "cell_type": "code",
      "metadata": {
        "id": "Cn17dD8ZeX9x"
      },
      "source": [
        "#starting the Pre-processing of the tweet's text data\n",
        "\n",
        "corpus = []\n",
        "for i in range(0,1599999):\n",
        "    tweet = re.sub(\"a-zA-Z\",\" \",x[i]) #what's the usage of x[i]\n",
        "    tweet = tweet.lower()\n",
        "    tweet = tweet.split()\n",
        "    tweet = re.sub(\"http\\S+\",\" \", x[i])\n",
        "    tweet = re.sub(\"@\\S+\", \" \", x[i])\n",
        "    stemming = PorterStemmer()\n",
        "    tweet = [stemming.stem(word) for word in tweet if not word in set(stopwords.words(\"english\"))] \n",
        "    tweet = \" \".join(tweet)\n",
        "    corpus.append(tweet)"
      ],
      "execution_count": null,
      "outputs": []
    },
    {
      "cell_type": "code",
      "metadata": {
        "id": "Ou5Ut3wShQDq"
      },
      "source": [
        ""
      ],
      "execution_count": null,
      "outputs": []
    }
  ]
}